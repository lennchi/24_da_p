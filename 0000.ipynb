{
 "cells": [
  {
   "cell_type": "markdown",
   "metadata": {},
   "source": [
    "Conversion from binary to decimal"
   ]
  },
  {
   "cell_type": "code",
   "execution_count": 3,
   "metadata": {},
   "outputs": [
    {
     "data": {
      "text/plain": [
       "9"
      ]
     },
     "execution_count": 3,
     "metadata": {},
     "output_type": "execute_result"
    }
   ],
   "source": [
    "text = \"1001\"\n",
    "number = int(text, 2)  # 2 for binary\n",
    "number"
   ]
  },
  {
   "cell_type": "markdown",
   "metadata": {},
   "source": [
    "Math and Statistics modules"
   ]
  },
  {
   "cell_type": "code",
   "execution_count": null,
   "metadata": {},
   "outputs": [],
   "source": [
    "import math\n",
    "import statistics\n",
    "\n",
    "math.ceil()  # round up\n",
    "math.floor()  # round down\n",
    "statistics.mean()\n",
    "statistics.mode()"
   ]
  },
  {
   "cell_type": "markdown",
   "metadata": {},
   "source": [
    "Cleaning up strings"
   ]
  },
  {
   "cell_type": "code",
   "execution_count": null,
   "metadata": {},
   "outputs": [],
   "source": [
    "string = \"jh a sasdf7\"\n",
    "string.strip()  # removes leading and trailing whitespaces; can specify chars to remove in ()\n",
    "string.split()  # splits string into list items; optional: (sep=delimiter, maxsplit=max_num_of_splits_to_perform)"
   ]
  },
  {
   "cell_type": "markdown",
   "metadata": {},
   "source": [
    "SETS: unordered; can only have unique values"
   ]
  },
  {
   "cell_type": "code",
   "execution_count": null,
   "metadata": {},
   "outputs": [],
   "source": [
    "hobbies = [\"Python\", \"kung-fu\", \"Python\", \"Netflix\"]\n",
    "hobbies = set(hobbies)\n",
    "\n",
    "hobbies.add(\"python\")  # adding a new item to set\n",
    "\n",
    "all_hobbies = hobbies_1 | hobbies_2  # outer join (all of both)\n",
    "common_hobbies = hobbies_1 & hobbies_2  # inner join (overlap)"
   ]
  },
  {
   "cell_type": "markdown",
   "metadata": {},
   "source": [
    "GET method: defense against KeyError"
   ]
  },
  {
   "cell_type": "code",
   "execution_count": null,
   "metadata": {},
   "outputs": [],
   "source": [
    "# this won't work if no such key in dict\n",
    "insurance_number = person(\"insurance_card\")\n",
    "\n",
    "# this will work:\n",
    "insurance_number = person.get(\n",
    "    \"insurance_card\", \"Naaaah\"\n",
    ")  # the second arg is what is returned if key not found"
   ]
  }
 ],
 "metadata": {
  "kernelspec": {
   "display_name": "Python 3",
   "language": "python",
   "name": "python3"
  },
  "language_info": {
   "codemirror_mode": {
    "name": "ipython",
    "version": 3
   },
   "file_extension": ".py",
   "mimetype": "text/x-python",
   "name": "python",
   "nbconvert_exporter": "python",
   "pygments_lexer": "ipython3",
   "version": "3.10.5"
  }
 },
 "nbformat": 4,
 "nbformat_minor": 2
}
