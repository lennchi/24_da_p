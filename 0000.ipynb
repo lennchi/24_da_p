{
 "cells": [
  {
   "cell_type": "markdown",
   "metadata": {},
   "source": [
    "Conversion from binary to decimal"
   ]
  },
  {
   "cell_type": "code",
   "execution_count": null,
   "metadata": {},
   "outputs": [],
   "source": [
    "text = \"1001\"\n",
    "number = int(text, 2)  # 2 for binary\n",
    "number"
   ]
  },
  {
   "cell_type": "markdown",
   "metadata": {},
   "source": [
    "Math and Statistics modules"
   ]
  },
  {
   "cell_type": "code",
   "execution_count": null,
   "metadata": {},
   "outputs": [],
   "source": [
    "import math\n",
    "import statistics\n",
    "\n",
    "math.ceil()  # round up\n",
    "math.floor()  # round down\n",
    "statistics.mean()\n",
    "statistics.mode()"
   ]
  },
  {
   "cell_type": "markdown",
   "metadata": {},
   "source": [
    "**Cleaning up strings**"
   ]
  },
  {
   "cell_type": "markdown",
   "metadata": {},
   "source": [
    "`strip()` removes leading/trailing whitespaces"
   ]
  },
  {
   "cell_type": "code",
   "execution_count": 59,
   "metadata": {},
   "outputs": [
    {
     "data": {
      "text/plain": [
       "'jh a sasd'"
      ]
     },
     "execution_count": 59,
     "metadata": {},
     "output_type": "execute_result"
    }
   ],
   "source": [
    "string = \"jh a sasdf7\"\n",
    "string.strip('f7')  # can specify chars to remove in ()"
   ]
  },
  {
   "cell_type": "markdown",
   "metadata": {},
   "source": [
    "`split()` splits string into list items"
   ]
  },
  {
   "cell_type": "code",
   "execution_count": 60,
   "metadata": {},
   "outputs": [
    {
     "data": {
      "text/plain": [
       "['jh', 'a3 sa', 's d3f7']"
      ]
     },
     "execution_count": 60,
     "metadata": {},
     "output_type": "execute_result"
    }
   ],
   "source": [
    "string = \"jh;a3 sa;s d3f7\"\n",
    "string.split(sep=';')  # optional: (sep=delimiter, maxsplit=max_num_of_splits_to_perform)"
   ]
  },
  {
   "cell_type": "markdown",
   "metadata": {},
   "source": [
    "`set()` – unordered; can only have unique values"
   ]
  },
  {
   "cell_type": "code",
   "execution_count": null,
   "metadata": {},
   "outputs": [],
   "source": [
    "hobbies = [\"Python\", \"kung-fu\", \"Python\", \"Netflix\"]\n",
    "hobbies = set(hobbies)\n",
    "\n",
    "hobbies.add(\"python\")  # adding a new item to set\n",
    "\n",
    "all_hobbies = hobbies_1 | hobbies_2  # outer join (all of both)\n",
    "common_hobbies = hobbies_1 & hobbies_2  # inner join (overlap)"
   ]
  },
  {
   "cell_type": "markdown",
   "metadata": {},
   "source": [
    "`get()` – defense against KeyError"
   ]
  },
  {
   "cell_type": "code",
   "execution_count": null,
   "metadata": {},
   "outputs": [],
   "source": [
    "# this won't work if no such key in dict\n",
    "insurance_number = person(\"insurance_card\")\n",
    "\n",
    "# this will work:\n",
    "insurance_number = person.get(\n",
    "    \"insurance_card\", \"Naaaah\"\n",
    ")  # the second arg is what is returned if key not found"
   ]
  },
  {
   "cell_type": "markdown",
   "metadata": {},
   "source": [
    "**Reversing strings**"
   ]
  },
  {
   "cell_type": "markdown",
   "metadata": {},
   "source": [
    "`reversed()`"
   ]
  },
  {
   "cell_type": "code",
   "execution_count": null,
   "metadata": {},
   "outputs": [],
   "source": [
    "reversed_string = \"\".join(reversed(string))"
   ]
  },
  {
   "cell_type": "markdown",
   "metadata": {},
   "source": [
    "`[::1]`"
   ]
  },
  {
   "cell_type": "code",
   "execution_count": null,
   "metadata": {},
   "outputs": [],
   "source": [
    "str = 'The  quick brown fox jumps over the lazy dog.'\n",
    "' '.join(s[::-1] for s in str.split(' ')) # [::-1] reverses each word"
   ]
  },
  {
   "cell_type": "markdown",
   "metadata": {},
   "source": [
    "`endswith()`"
   ]
  },
  {
   "cell_type": "code",
   "execution_count": null,
   "metadata": {},
   "outputs": [],
   "source": [
    "string = \"hello world\"\n",
    "print(string.endswith(\"world\"))  # Output: True\n",
    "print(string.endswith(\"hello\"))  # Output: False\n",
    "print(string.endswith(\"lo\", 0, 5))  # Output: True; the part of the string between 0 and 5 position excluding ends with \"lo\""
   ]
  },
  {
   "cell_type": "markdown",
   "metadata": {},
   "source": [
    "`isalnum()` – checks for a-z, A-Z, 0-9"
   ]
  },
  {
   "cell_type": "code",
   "execution_count": 51,
   "metadata": {},
   "outputs": [
    {
     "data": {
      "text/plain": [
       "True"
      ]
     },
     "execution_count": 51,
     "metadata": {},
     "output_type": "execute_result"
    }
   ],
   "source": [
    "word = \"ahjf8o23rq\"\n",
    "word.isalnum()"
   ]
  }
 ],
 "metadata": {
  "kernelspec": {
   "display_name": "Python 3",
   "language": "python",
   "name": "python3"
  },
  "language_info": {
   "codemirror_mode": {
    "name": "ipython",
    "version": 3
   },
   "file_extension": ".py",
   "mimetype": "text/x-python",
   "name": "python",
   "nbconvert_exporter": "python",
   "pygments_lexer": "ipython3",
   "version": "3.10.5"
  }
 },
 "nbformat": 4,
 "nbformat_minor": 2
}
