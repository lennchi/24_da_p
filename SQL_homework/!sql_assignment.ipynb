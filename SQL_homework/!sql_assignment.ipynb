{
 "cells": [
  {
   "cell_type": "markdown",
   "metadata": {},
   "source": [
    "## Povinný úkol (TEROR)\n",
    "\n",
    "1. Použijte schéma SCH_TEROR a tabulku TEROR (platí pro všechny úlohy).\n",
    "\n",
    "Vypište vývoj po dnech (použijte pole IDAY, IMONTH, IYEAR a funkci DATE_FROM_PARTS) v roce 2015 v zemích Iraq, Nigeria a Syria. Tabulka by měla obsahovat stát, počet útoků (EVENTID), počet zabitých obětí (rozdíl NKILL a NKILLTER), počet zabitých teroristů a počet zraněných na daný den a danou zemi. Výsledek omezte pouze na dny, kdy bylo v dané zemi provedeno alespoň 10 útoků a počet obětí byl nejméně 8 (rozdíl NKILL a NKILLTER). Sloupečky rozumně přejmenujte (alias – AS), aby bylo poznat, jaká informace se v daném sloupečku nachází. Výsledek seřaďte podle země abecedně (A-Z) a zároveň vzestupně dle datumu. \n",
    "\n",
    "Pozn. správnost výpočtu si ověř třeba na počtech ze Sýrie.\n",
    "\n",
    " \n",
    "2. Vypočítejte vzdálenost útoků od Prahy (latitude = 50.0755, longitude = 14.4378) a tuto hodnotu kategorizujte a spočítejte počet útoků (EVENTID) a počet obětí (rozdíl NKILL a NKILLTER). \n",
    "\n",
    "Kategorie: '0-99 km', '100-499 km', '500-999 km', '1000+ km', 'exact location unknown'. Berte v úvahu pouze roky 2014 a 2015. Seřaďte sestupně dle počtu útoků. Při kategorizaci dejte pozor, abyste skutečně pokryly všechny vzdálenosti a nestalo se vám, že na přelomu kategorií vám bude chybět jeden kilometr (nebo 1 metr 😊), např. hodnota 499,5 má spadat do kategorie '100-499 km' - je nežádoucí, aby spadla do 'exact location unknown'.\n",
    "\n",
    "\n",
    "3. Zobrazte 15 útoků s největším počtem mrtvých (NKILL) ze zemí Iraq, Afghanistan, Pakistan, Nigeria. Z výsledku odfiltrujte targtype1_txt ‘Private Citizens & Property’, pro gname ‘Taliban’ tato výjimka neplatí (u této skupiny vypište i útoky s targtype1_txt ‘Private Citizens & Property’). Vypište pouze sloupečky eventid, iyear, country_txt, city, attacktype1_txt, targtype1_txt, gname, weaptype1_txt, nkill. Vyřešte bez použití UNION.\n",
    "\n",
    "________________________\n",
    "\n",
    "Pro řešení používejte tabulku TEROR, kterou znáte z lekcí. Úkoly odevzdávejte do složky se svým jménem pro povinné úkoly, ne k sobě na disk. Vaše řešení odevzdejte formou GOOGLE DOKUMENTU. Odevzdávejte link na GOOGLE DOKUMENT, ve kterém bude vaše řešení. Do vašeho GOOGLE DOKUMENTU vám budu úkoly komentovat. V případě, že vás upozorním na chyby, je třeba vaše řešení opravit, jinak úkol nebude uznán jako splněný."
   ]
  },
  {
   "cell_type": "markdown",
   "metadata": {},
   "source": [
    "## Nepovinný úkol (NETFLIX)\n",
    "\n",
    "V nepovinném úkolu budeme pracovat s tabulkami NETFLIX_TITLES2 a IMDB_TITLES2, navíc budeme pracovat ještě s tabulkou IMDB_RATINGS2, kde jsou uložená hodnocení k titulům IMDB.\n",
    "\n",
    "Jsou to následující tabulky:\n",
    "\n",
    "SELECT * FROM SCH_CZECHITA.NETFLIX_TITLES2;\n",
    "\n",
    "SELECT * FROM SCH_CZECHITA.IMDB_TITLES2;\n",
    "\n",
    "SELECT * FROM SCH_CZECHITA.IMDB_RATINGS2;\n",
    "\n",
    "Tvým úkolem je spojit všechny tři tabulky pomoci INNER JOIN (chceme jen ty tituly, které mají všechny tři datasety společné). Spojení tabulek proveď následujícím postupem:\n",
    "\n",
    "1. Nejdříve spoj IMDB_TITLES2 & IMDB_RATINGS2 (INNER JOIN) pomocí id (IMDB_TITLES2.TCONST = IMDB_RATINGS2.TCONST) do pomocné dočasné tabulky (CREATE TEMPORARY TABLE).\n",
    "\n",
    "2. Pro napojení na Netflix potřebujeme vytvořit nový sloupeček, který upraví hodnoty ze sloupce TITLETYPE tak, abychom hodnoty mohly napojit na sloupeček TYPE z NETFLIX_TITLES2.\n",
    "\n",
    "    --> Vytvoř v další pomocné tabulce (CREATE TEMPORARY TABLE) nový sloupeček TITLETYPE_NEW pomocí CASE WHEN.\n",
    "\n",
    "  --> V novém sloupečku bude hodnota 'Movie' pro hodnoty TITLETYPE 'movie', 'short', 'tvMovie', 'tvShort' a hodnota 'TV Show' pro hodnoty TITLETYPE 'tvSeries', 'tvMiniSeries'.\n",
    "\n",
    "3. Pomocnou tabulku s napojenými IMDB datasety a sloupečkem TITLETYPE a napojte pomocí INNER JOIN na NETFLIX_TITLES2 pomocí názvu, roku vydání a typu titulu a uložte do finální tabulky NETFLIX_IMDB (CREATE TABLE) \n",
    "\n",
    "    --> Nezapomeň na nastavení svého schématu, abys mohla vytvářet tabulky.\n",
    "\n",
    "    --> Zachovej všechny sloupce z IMDB_TITLES2, pouze sloupce AVERAGERATING a NUMVOTES z tabulky IMDB_RATINGS2 a všechny sloupce z tabulky NETFLIX_TITLES2\n",
    "\n",
    "        (IMDB_TITLES2.PRIMARYTITLE = NETFLIX_TITLES2.TITLE \n",
    "\n",
    "        AND IMDB_TITLES2.STARTYEAR = NETFLIX_TITLES2.RELEASE_YEAR\n",
    "\n",
    "        AND IMDB_TITLES2.TITLETYPE_NEW = NETFLIX_TITLES2.TYPE)\n",
    "\n",
    "4. Kolik je ve výsledku duplicit? (GROUP BY & HAVING). (Duplicity posuzujte tak, ze se neopakuje SHOW_ID (id Netflix datasetu)). Úkolem není duplicity smazat! Pouze napište dotaz, který vás k duplicitám dovede a napište, kolik jich tam vidíte.\n",
    "________________________\n",
    "\n",
    "Až budeš mít úkol vypracovaný, okopíruj tvůj script do Google Docs a link na něj odevzdej do úkolu jako hyperlink. \n",
    "\n",
    "Vkládej jen relevantní části řešení. \n",
    "\n",
    "Do vašeho GOOGLE DOKUMENTU vám budu řešení komentovat. V případě, že vás upozorním na chyby, je třeba vaše řešení opravit, jinak úkol nebude uznán jako splněný."
   ]
  }
 ],
 "metadata": {
  "language_info": {
   "name": "python"
  }
 },
 "nbformat": 4,
 "nbformat_minor": 2
}
