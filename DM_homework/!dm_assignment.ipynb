{
 "cells": [
  {
   "cell_type": "markdown",
   "metadata": {},
   "source": [
    "# Zadání"
   ]
  },
  {
   "cell_type": "markdown",
   "metadata": {},
   "source": [
    "### Povinný úkol – eshop\n",
    "\n",
    "Chceme vytvořit databázi pro e-shop s módou a oblečením. Pro náš eshop budeme chtít udržovat informace o zákaznících. Kromě základních atributů zákazníka chceme udržovat i kontaktní údaje (email, telefon a adresa). \n",
    "\n",
    "V e-shopu budeme prodávat produkty u kterých víme: název, popis, cenu, dostupnost na skladě, kategorii produktu a dodavatele produktu. Každý produkt bude dodáván jedním dodavatelem. Potřebujeme také udržovat informace o objednávkách. Objednávka je vázána na konkrétního zákazníka.\n",
    "\n",
    "Ukládáme také informace o prodejích – objednávka může být dodána ve více prodejích (zásilkách) a v jednom prodeji umíme zabalit zboží z více objednávek. V datovém modelu budeme potřebovat informaci o tom kdy byla uskutečněna objednávka a kdy prodej.\n",
    "\n",
    "Předpoklady:\n",
    "\n",
    "● Dodavatel může existovat, aniž by dodával produkty.\n",
    "\n",
    "● Produkt nemusí být vázán na dodavatele.\n",
    "\n",
    "● Zákazník může být zákazníkem i když neudělal žádnou objednávku ani nákup.\n",
    "\n",
    "● Nákup nelze udělat bez objednávky.\n",
    " \n",
    "\n",
    "Nakreslete ERD, který bude schopen zaznamenávat všechny tyto údaje. Označte názvy entit, primární a cizí klíče, atributy každé entity a jejich datové typy, vztahy mezi entitami a kardinalitu vztahů. Použijte nástroj na modelování a výsledek pošlete buď přes odkaz nebo jako obrázek či pdf. Tip: tento model by mohl obsahovat 6 tabulek."
   ]
  },
  {
   "cell_type": "markdown",
   "metadata": {},
   "source": [
    "### Nepovinný úkol – cars\n",
    "\n",
    "Nakreslete ERD pro autorizovaného prodejce aut. Prodává jak nová auta, tak i ojetá, a taky provozuje servis. Založte váš model na následujících business pravidlech:\n",
    "● Obchodník může prodat více aut, ale každé auto je prodané pouze jedným obchodníkem.\n",
    "● Klient si může koupit více aut, ale každé auto kupuje pouze jeden klient.\n",
    "● Obchodník vystaví pouze jednu fakturu na každé auto, které prodá.\n",
    "● Klient obdrží fakturu na každé auto, které si koupí.\n",
    "● Klient se může zastavit např. jen na servis, tzn. klient nemusí kupovat auto, abychom mu říkali “klient”.\n",
    "● Když klient přiveze do servisu jedno nebo více aut, jeden servisní lístek je vypsán pro každé auto.\n",
    "● Autorizovaný prodejce aut si uchovává servisní historii každého auta, které obsluhují. Servisní zaznamy vždy obsahují sériové číslo auta.\n",
    "● O každé auto v servisu se může starat více mechaniků a každý mechanik se může starat o více aut.\n",
    "● Servis auta může, ale nemusí, vyžadovat použití náhradních dílů.\n",
    "\n",
    "Tip: tento model by mohl obsahovat 10 tabulek."
   ]
  }
 ],
 "metadata": {
  "language_info": {
   "name": "python"
  }
 },
 "nbformat": 4,
 "nbformat_minor": 2
}
